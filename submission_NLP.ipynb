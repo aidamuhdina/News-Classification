{
  "nbformat": 4,
  "nbformat_minor": 0,
  "metadata": {
    "colab": {
      "name": "submission_NLP.ipynb",
      "provenance": [],
      "collapsed_sections": []
    },
    "kernelspec": {
      "name": "python3",
      "display_name": "Python 3"
    },
    "language_info": {
      "name": "python"
    },
    "accelerator": "GPU"
  },
  "cells": [
    {
      "cell_type": "markdown",
      "metadata": {
        "id": "E2f1WtKLZJJe"
      },
      "source": [
        "Nama  : Aida Muhdina\n",
        "<br/>Email : aidamuhdina@gmail.com"
      ]
    },
    {
      "cell_type": "code",
      "metadata": {
        "colab": {
          "base_uri": "https://localhost:8080/",
          "height": 204
        },
        "id": "L0T7sLgNZFjr",
        "outputId": "1c1c0c0c-d954-4f45-cc00-289aeaf33fa8"
      },
      "source": [
        "import pandas as pd\n",
        "\n",
        "df = pd.read_csv('/content/drive/MyDrive/Colab machine learning/Submission 1 NLP/bbc-text.csv')\n",
        "df.head()"
      ],
      "execution_count": 1,
      "outputs": [
        {
          "output_type": "execute_result",
          "data": {
            "text/html": [
              "<div>\n",
              "<style scoped>\n",
              "    .dataframe tbody tr th:only-of-type {\n",
              "        vertical-align: middle;\n",
              "    }\n",
              "\n",
              "    .dataframe tbody tr th {\n",
              "        vertical-align: top;\n",
              "    }\n",
              "\n",
              "    .dataframe thead th {\n",
              "        text-align: right;\n",
              "    }\n",
              "</style>\n",
              "<table border=\"1\" class=\"dataframe\">\n",
              "  <thead>\n",
              "    <tr style=\"text-align: right;\">\n",
              "      <th></th>\n",
              "      <th>category</th>\n",
              "      <th>text</th>\n",
              "    </tr>\n",
              "  </thead>\n",
              "  <tbody>\n",
              "    <tr>\n",
              "      <th>0</th>\n",
              "      <td>tech</td>\n",
              "      <td>tv future in the hands of viewers with home th...</td>\n",
              "    </tr>\n",
              "    <tr>\n",
              "      <th>1</th>\n",
              "      <td>business</td>\n",
              "      <td>worldcom boss  left books alone  former worldc...</td>\n",
              "    </tr>\n",
              "    <tr>\n",
              "      <th>2</th>\n",
              "      <td>sport</td>\n",
              "      <td>tigers wary of farrell  gamble  leicester say ...</td>\n",
              "    </tr>\n",
              "    <tr>\n",
              "      <th>3</th>\n",
              "      <td>sport</td>\n",
              "      <td>yeading face newcastle in fa cup premiership s...</td>\n",
              "    </tr>\n",
              "    <tr>\n",
              "      <th>4</th>\n",
              "      <td>entertainment</td>\n",
              "      <td>ocean s twelve raids box office ocean s twelve...</td>\n",
              "    </tr>\n",
              "  </tbody>\n",
              "</table>\n",
              "</div>"
            ],
            "text/plain": [
              "        category                                               text\n",
              "0           tech  tv future in the hands of viewers with home th...\n",
              "1       business  worldcom boss  left books alone  former worldc...\n",
              "2          sport  tigers wary of farrell  gamble  leicester say ...\n",
              "3          sport  yeading face newcastle in fa cup premiership s...\n",
              "4  entertainment  ocean s twelve raids box office ocean s twelve..."
            ]
          },
          "metadata": {
            "tags": []
          },
          "execution_count": 1
        }
      ]
    },
    {
      "cell_type": "code",
      "metadata": {
        "colab": {
          "base_uri": "https://localhost:8080/",
          "height": 419
        },
        "id": "U5gmDzd9Zx5C",
        "outputId": "e7e63ed0-1e2d-4fc7-f35b-ed47ff9fbf21"
      },
      "source": [
        "category = pd.get_dummies(df.category)\n",
        "df = pd.concat([df, category], axis=1)\n",
        "df = df.drop(columns='category')\n",
        "df"
      ],
      "execution_count": 2,
      "outputs": [
        {
          "output_type": "execute_result",
          "data": {
            "text/html": [
              "<div>\n",
              "<style scoped>\n",
              "    .dataframe tbody tr th:only-of-type {\n",
              "        vertical-align: middle;\n",
              "    }\n",
              "\n",
              "    .dataframe tbody tr th {\n",
              "        vertical-align: top;\n",
              "    }\n",
              "\n",
              "    .dataframe thead th {\n",
              "        text-align: right;\n",
              "    }\n",
              "</style>\n",
              "<table border=\"1\" class=\"dataframe\">\n",
              "  <thead>\n",
              "    <tr style=\"text-align: right;\">\n",
              "      <th></th>\n",
              "      <th>text</th>\n",
              "      <th>business</th>\n",
              "      <th>entertainment</th>\n",
              "      <th>politics</th>\n",
              "      <th>sport</th>\n",
              "      <th>tech</th>\n",
              "    </tr>\n",
              "  </thead>\n",
              "  <tbody>\n",
              "    <tr>\n",
              "      <th>0</th>\n",
              "      <td>tv future in the hands of viewers with home th...</td>\n",
              "      <td>0</td>\n",
              "      <td>0</td>\n",
              "      <td>0</td>\n",
              "      <td>0</td>\n",
              "      <td>1</td>\n",
              "    </tr>\n",
              "    <tr>\n",
              "      <th>1</th>\n",
              "      <td>worldcom boss  left books alone  former worldc...</td>\n",
              "      <td>1</td>\n",
              "      <td>0</td>\n",
              "      <td>0</td>\n",
              "      <td>0</td>\n",
              "      <td>0</td>\n",
              "    </tr>\n",
              "    <tr>\n",
              "      <th>2</th>\n",
              "      <td>tigers wary of farrell  gamble  leicester say ...</td>\n",
              "      <td>0</td>\n",
              "      <td>0</td>\n",
              "      <td>0</td>\n",
              "      <td>1</td>\n",
              "      <td>0</td>\n",
              "    </tr>\n",
              "    <tr>\n",
              "      <th>3</th>\n",
              "      <td>yeading face newcastle in fa cup premiership s...</td>\n",
              "      <td>0</td>\n",
              "      <td>0</td>\n",
              "      <td>0</td>\n",
              "      <td>1</td>\n",
              "      <td>0</td>\n",
              "    </tr>\n",
              "    <tr>\n",
              "      <th>4</th>\n",
              "      <td>ocean s twelve raids box office ocean s twelve...</td>\n",
              "      <td>0</td>\n",
              "      <td>1</td>\n",
              "      <td>0</td>\n",
              "      <td>0</td>\n",
              "      <td>0</td>\n",
              "    </tr>\n",
              "    <tr>\n",
              "      <th>...</th>\n",
              "      <td>...</td>\n",
              "      <td>...</td>\n",
              "      <td>...</td>\n",
              "      <td>...</td>\n",
              "      <td>...</td>\n",
              "      <td>...</td>\n",
              "    </tr>\n",
              "    <tr>\n",
              "      <th>2220</th>\n",
              "      <td>cars pull down us retail figures us retail sal...</td>\n",
              "      <td>1</td>\n",
              "      <td>0</td>\n",
              "      <td>0</td>\n",
              "      <td>0</td>\n",
              "      <td>0</td>\n",
              "    </tr>\n",
              "    <tr>\n",
              "      <th>2221</th>\n",
              "      <td>kilroy unveils immigration policy ex-chatshow ...</td>\n",
              "      <td>0</td>\n",
              "      <td>0</td>\n",
              "      <td>1</td>\n",
              "      <td>0</td>\n",
              "      <td>0</td>\n",
              "    </tr>\n",
              "    <tr>\n",
              "      <th>2222</th>\n",
              "      <td>rem announce new glasgow concert us band rem h...</td>\n",
              "      <td>0</td>\n",
              "      <td>1</td>\n",
              "      <td>0</td>\n",
              "      <td>0</td>\n",
              "      <td>0</td>\n",
              "    </tr>\n",
              "    <tr>\n",
              "      <th>2223</th>\n",
              "      <td>how political squabbles snowball it s become c...</td>\n",
              "      <td>0</td>\n",
              "      <td>0</td>\n",
              "      <td>1</td>\n",
              "      <td>0</td>\n",
              "      <td>0</td>\n",
              "    </tr>\n",
              "    <tr>\n",
              "      <th>2224</th>\n",
              "      <td>souness delight at euro progress boss graeme s...</td>\n",
              "      <td>0</td>\n",
              "      <td>0</td>\n",
              "      <td>0</td>\n",
              "      <td>1</td>\n",
              "      <td>0</td>\n",
              "    </tr>\n",
              "  </tbody>\n",
              "</table>\n",
              "<p>2225 rows × 6 columns</p>\n",
              "</div>"
            ],
            "text/plain": [
              "                                                   text  business  ...  sport  tech\n",
              "0     tv future in the hands of viewers with home th...         0  ...      0     1\n",
              "1     worldcom boss  left books alone  former worldc...         1  ...      0     0\n",
              "2     tigers wary of farrell  gamble  leicester say ...         0  ...      1     0\n",
              "3     yeading face newcastle in fa cup premiership s...         0  ...      1     0\n",
              "4     ocean s twelve raids box office ocean s twelve...         0  ...      0     0\n",
              "...                                                 ...       ...  ...    ...   ...\n",
              "2220  cars pull down us retail figures us retail sal...         1  ...      0     0\n",
              "2221  kilroy unveils immigration policy ex-chatshow ...         0  ...      0     0\n",
              "2222  rem announce new glasgow concert us band rem h...         0  ...      0     0\n",
              "2223  how political squabbles snowball it s become c...         0  ...      0     0\n",
              "2224  souness delight at euro progress boss graeme s...         0  ...      1     0\n",
              "\n",
              "[2225 rows x 6 columns]"
            ]
          },
          "metadata": {
            "tags": []
          },
          "execution_count": 2
        }
      ]
    },
    {
      "cell_type": "code",
      "metadata": {
        "id": "rzbIDAgDZ0AJ"
      },
      "source": [
        "news = df['text'].to_numpy()\n",
        "label = df[['business', 'entertainment', 'politics', 'sport', 'tech']].to_numpy()"
      ],
      "execution_count": 3,
      "outputs": []
    },
    {
      "cell_type": "code",
      "metadata": {
        "id": "85o7sV3OZ2TC"
      },
      "source": [
        "from sklearn.model_selection import train_test_split\n",
        "\n",
        "news_latih, news_test, label_latih, label_test = train_test_split(news, label, test_size=0.2)"
      ],
      "execution_count": 4,
      "outputs": []
    },
    {
      "cell_type": "code",
      "metadata": {
        "id": "fUN7GO5TZ4Y6"
      },
      "source": [
        "from tensorflow.keras.preprocessing.text import Tokenizer\n",
        "from tensorflow.keras.preprocessing.sequence import pad_sequences\n",
        "\n",
        "tokenizer = Tokenizer(num_words=5000, oov_token='x')\n",
        "tokenizer.fit_on_texts(news_latih)\n",
        "tokenizer.fit_on_texts(news_test)\n",
        "\n",
        "sekuens_latih = tokenizer.texts_to_sequences(news_latih)\n",
        "sekuens_test = tokenizer.texts_to_sequences(news_test)\n",
        "\n",
        "padded_latih = pad_sequences(sekuens_latih)\n",
        "padded_test = pad_sequences(sekuens_test)"
      ],
      "execution_count": 5,
      "outputs": []
    },
    {
      "cell_type": "code",
      "metadata": {
        "id": "syjVzoBnZ9FO"
      },
      "source": [
        "import tensorflow as tf\n",
        "\n",
        "model = tf.keras.Sequential([\n",
        "            tf.keras.layers.Embedding(input_dim=5000, output_dim=16),\n",
        "            tf.keras.layers.LSTM(64),\n",
        "            tf.keras.layers.Dense(64, activation='relu'),\n",
        "            tf.keras.layers.Dropout(0.1),\n",
        "            tf.keras.layers.Dense(5, activation='softmax')\n",
        "])\n",
        "model.compile(loss='categorical_crossentropy',\n",
        "              optimizer='Adam',\n",
        "              metrics=['accuracy'])"
      ],
      "execution_count": 6,
      "outputs": []
    },
    {
      "cell_type": "code",
      "metadata": {
        "id": "bxam4sQ2aB4B"
      },
      "source": [
        "#membuat kelas callback untuk menghentikan training\n",
        "class myCallback(tf.keras.callbacks.Callback):\n",
        "  def on_epoch_end(self, epoch, logs={}):\n",
        "    if logs.get('val_accuracy')>=0.90:\n",
        "      self.model.stop_training = True\n",
        "      accuracy = float(logs.get('accuracy'))*100\n",
        "      val_accuracy = float(logs.get('val_accuracy'))*100\n",
        "      print(\"reached %.2f%% accuracy and %.2f%% val_accuracy\" %(accuracy, val_accuracy))\n",
        "\n",
        "callback = myCallback()"
      ],
      "execution_count": 7,
      "outputs": []
    },
    {
      "cell_type": "code",
      "metadata": {
        "colab": {
          "base_uri": "https://localhost:8080/"
        },
        "id": "2g99HOLcaSaG",
        "outputId": "47f865a1-5dc4-4a57-f38c-7aa46a069a46"
      },
      "source": [
        "num_epochs=30\n",
        "history = model.fit(padded_latih, label_latih, epochs=num_epochs,\n",
        "                    batch_size=128, validation_data=(padded_test, label_test),\n",
        "                    verbose=2, callbacks=[callback])"
      ],
      "execution_count": 8,
      "outputs": [
        {
          "output_type": "stream",
          "text": [
            "Epoch 1/30\n",
            "14/14 - 11s - loss: 1.6073 - accuracy: 0.2191 - val_loss: 1.6028 - val_accuracy: 0.2315\n",
            "Epoch 2/30\n",
            "14/14 - 3s - loss: 1.5962 - accuracy: 0.2506 - val_loss: 1.5881 - val_accuracy: 0.2315\n",
            "Epoch 3/30\n",
            "14/14 - 3s - loss: 1.5777 - accuracy: 0.2522 - val_loss: 1.5800 - val_accuracy: 0.3258\n",
            "Epoch 4/30\n",
            "14/14 - 3s - loss: 1.5425 - accuracy: 0.3983 - val_loss: 1.5284 - val_accuracy: 0.3730\n",
            "Epoch 5/30\n",
            "14/14 - 3s - loss: 1.3541 - accuracy: 0.4994 - val_loss: 1.1940 - val_accuracy: 0.4584\n",
            "Epoch 6/30\n",
            "14/14 - 3s - loss: 1.0400 - accuracy: 0.5185 - val_loss: 0.9383 - val_accuracy: 0.5865\n",
            "Epoch 7/30\n",
            "14/14 - 3s - loss: 0.7284 - accuracy: 0.6966 - val_loss: 0.6848 - val_accuracy: 0.7258\n",
            "Epoch 8/30\n",
            "14/14 - 3s - loss: 0.5699 - accuracy: 0.7927 - val_loss: 0.6743 - val_accuracy: 0.7393\n",
            "Epoch 9/30\n",
            "14/14 - 3s - loss: 0.4692 - accuracy: 0.8466 - val_loss: 0.7228 - val_accuracy: 0.7213\n",
            "Epoch 10/30\n",
            "14/14 - 3s - loss: 0.4229 - accuracy: 0.8730 - val_loss: 0.5803 - val_accuracy: 0.8000\n",
            "Epoch 11/30\n",
            "14/14 - 3s - loss: 0.2551 - accuracy: 0.9281 - val_loss: 0.5576 - val_accuracy: 0.7978\n",
            "Epoch 12/30\n",
            "14/14 - 3s - loss: 0.1499 - accuracy: 0.9607 - val_loss: 0.3990 - val_accuracy: 0.8697\n",
            "Epoch 13/30\n",
            "14/14 - 3s - loss: 0.0909 - accuracy: 0.9781 - val_loss: 0.4015 - val_accuracy: 0.8742\n",
            "Epoch 14/30\n",
            "14/14 - 3s - loss: 0.0810 - accuracy: 0.9820 - val_loss: 0.5626 - val_accuracy: 0.8360\n",
            "Epoch 15/30\n",
            "14/14 - 3s - loss: 0.1051 - accuracy: 0.9719 - val_loss: 0.5102 - val_accuracy: 0.8494\n",
            "Epoch 16/30\n",
            "14/14 - 3s - loss: 0.1219 - accuracy: 0.9674 - val_loss: 0.5622 - val_accuracy: 0.8135\n",
            "Epoch 17/30\n",
            "14/14 - 3s - loss: 0.0421 - accuracy: 0.9938 - val_loss: 0.5021 - val_accuracy: 0.8719\n",
            "Epoch 18/30\n",
            "14/14 - 3s - loss: 0.0192 - accuracy: 0.9972 - val_loss: 0.4802 - val_accuracy: 0.8719\n",
            "Epoch 19/30\n",
            "14/14 - 3s - loss: 0.0167 - accuracy: 0.9972 - val_loss: 0.7010 - val_accuracy: 0.8180\n",
            "Epoch 20/30\n",
            "14/14 - 3s - loss: 0.0386 - accuracy: 0.9904 - val_loss: 0.5059 - val_accuracy: 0.8337\n",
            "Epoch 21/30\n",
            "14/14 - 3s - loss: 0.0224 - accuracy: 0.9983 - val_loss: 0.5094 - val_accuracy: 0.8629\n",
            "Epoch 22/30\n",
            "14/14 - 3s - loss: 0.0080 - accuracy: 0.9994 - val_loss: 0.4566 - val_accuracy: 0.9101\n",
            "reached 99.94% accuracy and 91.01% val_accuracy\n"
          ],
          "name": "stdout"
        }
      ]
    },
    {
      "cell_type": "code",
      "metadata": {
        "colab": {
          "base_uri": "https://localhost:8080/",
          "height": 573
        },
        "id": "C-Ruc9sBajyz",
        "outputId": "ed8f6057-8737-45b0-948d-2ccd0fc2e5af"
      },
      "source": [
        "import matplotlib.pyplot as plt\n",
        "%matplotlib inline\n",
        "\n",
        "#plot accuracy\n",
        "plt.plot(history.history['accuracy'])\n",
        "plt.plot(history.history['val_accuracy'])\n",
        "plt.title('Model Accuracy')\n",
        "plt.ylabel('accuracy')\n",
        "plt.xlabel('epoch')\n",
        "plt.legend(['train', 'test'], loc='upper left')\n",
        "plt.show()\n",
        "\n",
        "#plot loss\n",
        "plt.plot(history.history['loss'])\n",
        "plt.plot(history.history['val_loss'])\n",
        "plt.title('Model Loss')\n",
        "plt.ylabel('loss')\n",
        "plt.xlabel('epoch')\n",
        "plt.legend(['train', 'test'], loc='upper left')\n",
        "plt.show()"
      ],
      "execution_count": 9,
      "outputs": [
        {
          "output_type": "display_data",
          "data": {
            "image/png": "[encoded data removed]",
            "text/plain": [
              "<Figure size 432x288 with 1 Axes>"
            ]
          },
          "metadata": {
            "tags": [],
            "needs_background": "light"
          }
        },
        {
          "output_type": "display_data",
          "data": {
            "image/png": "[encoded data removed]",
            "text/plain": [
              "<Figure size 432x288 with 1 Axes>"
            ]
          },
          "metadata": {
            "tags": [],
            "needs_background": "light"
          }
        }
      ]
    }
  ]
}